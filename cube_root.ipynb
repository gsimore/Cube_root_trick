{
 "cells": [
  {
   "cell_type": "markdown",
   "metadata": {},
   "source": [
    "# The cube root mind trick!\n",
    "\n",
    "* There is a trick for finding the cube root of certain numbers! \n",
    "\n",
    "* If someone gives you the cube of any two-digit number, there is a trick to quickly find the cube root in your head, in less than 3 seconds.\n",
    "\n",
    "\n",
    "Write a function that:\n",
    "    \n",
    "    - Takes in a number\n",
    "\n",
    "    - Uses the mind trick to find and return the cube root of that two-digit number\n",
    "        Hint: the trick is finding each of the two digits. Look for patterns in cubed numbers.\n",
    "    \n",
    "    - Checks if the number is indeed a rational cube root, otherwise raises a ValueError and a message. \n",
    "    \n",
    "    - Checks if the cube root is a two-digit number, raises a ValueError and another message if not.\n",
    "    \n",
    "Advanced:\n",
    "    \n",
    "    - Write tests that assert the cube root of some numbers. "
   ]
  },
  {
   "cell_type": "code",
   "execution_count": 1,
   "metadata": {
    "collapsed": false
   },
   "outputs": [],
   "source": [
    "def cube_root(number):\n",
    "    '''\n",
    "    Find the cube root of a number using the mind-trick method!\n",
    "    \n",
    "    number; must be an integer with a rational cube root between 10 and 99 (inclusive). \n",
    "    '''\n",
    "    cube_root = round(number**(1/3), 6)\n",
    "    decimals = int(str(cube_root).split('.')[1])\n",
    "    \n",
    "    if number > 99**3 and number < 10**3:\n",
    "        raise ValueError('Must be a cube of a two-digit number')\n",
    "    elif decimals > 0:\n",
    "        raise ValueError('The number must be a rational cube root. For example: 3375, not 3376')\n",
    "        \n",
    "    # make a dictionary of cubes from 1 to 9\n",
    "    cubes = [(i, i**3) for i in range(1, 10)]\n",
    "    last_digits = dict()\n",
    "\n",
    "    for i in range(1, 10): \n",
    "        digits = list(str(i**3))\n",
    "        last_digits[i] = int(digits[-1])\n",
    "        \n",
    "    thousands_digits = int(str(number)[0:-3:1]) # [start:stop:step]\n",
    "\n",
    "    for k, v in reversed(cubes):\n",
    "        if thousands_digits >= v:\n",
    "            digit_one = k\n",
    "            break\n",
    "        else: \n",
    "            continue\n",
    "\n",
    "    digit_two = last_digits[int(str(number)[-1])]\n",
    "    cube_root = '{}{}'.format(digit_one, digit_two)\n",
    "    return int(cube_root)"
   ]
  },
  {
   "cell_type": "code",
   "execution_count": 8,
   "metadata": {
    "collapsed": false
   },
   "outputs": [
    {
     "data": {
      "text/plain": [
       "58"
      ]
     },
     "execution_count": 8,
     "metadata": {},
     "output_type": "execute_result"
    }
   ],
   "source": [
    "cube_root(195112)"
   ]
  },
  {
   "cell_type": "code",
   "execution_count": 5,
   "metadata": {
    "collapsed": false
   },
   "outputs": [],
   "source": [
    "def test_cube_root():\n",
    "    number = 195112\n",
    "    result = cube_root(number)\n",
    "    assert result == round(number**(1/3)), '{} should be 58'.format(result)\n",
    "    \n",
    "    not_a_cube = 8888\n",
    "    result = cube_root(not_a_cube)"
   ]
  },
  {
   "cell_type": "code",
   "execution_count": 6,
   "metadata": {
    "collapsed": true
   },
   "outputs": [],
   "source": [
    "test_cube_root()"
   ]
  }
 ],
 "metadata": {
  "anaconda-cloud": {},
  "kernelspec": {
   "display_name": "Python [default]",
   "language": "python",
   "name": "python3"
  },
  "language_info": {
   "codemirror_mode": {
    "name": "ipython",
    "version": 3
   },
   "file_extension": ".py",
   "mimetype": "text/x-python",
   "name": "python",
   "nbconvert_exporter": "python",
   "pygments_lexer": "ipython3",
   "version": "3.5.2"
  }
 },
 "nbformat": 4,
 "nbformat_minor": 1
}
